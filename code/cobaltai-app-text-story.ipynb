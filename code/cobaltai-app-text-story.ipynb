{
 "cells": [
  {
   "cell_type": "code",
   "execution_count": 1,
   "id": "9b592b59-c657-43a5-9140-22482e3fa879",
   "metadata": {
    "tags": []
   },
   "outputs": [],
   "source": [
    "import env\n",
    "from google.cloud import storage\n",
    "import json\n",
    "import base64\n",
    "import vertexai\n",
    "from vertexai.generative_models import GenerativeModel, Part, FinishReason\n",
    "import vertexai.preview.generative_models as generative_models"
   ]
  },
  {
   "cell_type": "code",
   "execution_count": 2,
   "id": "a445a8e8-411f-4c8f-a2bf-0c194be1f877",
   "metadata": {
    "tags": []
   },
   "outputs": [],
   "source": [
    "client = storage.Client()\n",
    "bucket = client.bucket(env.bucket_patient_hist)\n",
    "blob = bucket.list_blobs()"
   ]
  },
  {
   "cell_type": "code",
   "execution_count": 3,
   "id": "b4e2c49d-501e-431d-8fde-ade0cfb681fd",
   "metadata": {
    "tags": []
   },
   "outputs": [
    {
     "name": "stdout",
     "output_type": "stream",
     "text": [
      "<google.api_core.page_iterator.HTTPIterator object at 0x7f2beb840220>\n"
     ]
    }
   ],
   "source": [
    "print(blob)"
   ]
  },
  {
   "cell_type": "code",
   "execution_count": 4,
   "id": "77e7ab3c-e362-4bed-9206-076feefce1b0",
   "metadata": {
    "tags": []
   },
   "outputs": [],
   "source": [
    "blob_list=[]"
   ]
  },
  {
   "cell_type": "code",
   "execution_count": 5,
   "id": "2bf73e37-f41b-41fa-a555-0052f1691449",
   "metadata": {
    "tags": []
   },
   "outputs": [],
   "source": [
    "for each in blob:\n",
    "    blob_list.append(each.name)"
   ]
  },
  {
   "cell_type": "code",
   "execution_count": 6,
   "id": "689cf3ab-0f73-45bb-bbef-e38f641f9a97",
   "metadata": {
    "tags": []
   },
   "outputs": [],
   "source": [
    "file_data=[]"
   ]
  },
  {
   "cell_type": "code",
   "execution_count": 7,
   "id": "b263d39d-81c1-4d0c-aa51-833095a7663f",
   "metadata": {
    "tags": []
   },
   "outputs": [],
   "source": [
    "for file in blob_list:\n",
    "    blob = bucket.get_blob(file)\n",
    "    # load blob using json\n",
    "    file_data.append(json.loads(blob.download_as_string()))"
   ]
  },
  {
   "cell_type": "code",
   "execution_count": 8,
   "id": "7cef6d7e-284c-4a19-89d4-71ba44cdf9b2",
   "metadata": {
    "tags": []
   },
   "outputs": [
    {
     "data": {
      "text/plain": [
       "[{'name': 'Sara',\n",
       "  'age': 10,\n",
       "  'language': 'Dutch',\n",
       "  'sex': 'female',\n",
       "  'interests': ['pink teddy bears', 'horses', 'playing with ballons'],\n",
       "  'symptomps': ['bone pain',\n",
       "   'limping',\n",
       "   'sometimes she refuses to walk',\n",
       "   'bruising frequently',\n",
       "   'small red spots in the skin',\n",
       "   'fevers that last for days with no evident cause',\n",
       "   'infections in her mouth'],\n",
       "  'diagnosis': 'Possible leukemia',\n",
       "  'treatment': \"We need to do a bone marrow biopsy, the procedure consist on doing a small bone marrow puncture to extract cells to understand that blood production is going on as expected, if it isn't, it can be stablish what kind of malfunction is happening by examining the quality of the extracted cells. The procedure implies giving some anesthesia to the child, making her sleep, puncture her space in between a couple of vertebra, extract the bone marrow liquid and then finish. It is a short procedure but it is very important to confirm leukemia\",\n",
       "  'sideeffects': 'A bit of back scratching after the puncture.'},\n",
       " {'name': 'Joshua',\n",
       "  'age': 15,\n",
       "  'language': 'Spanish',\n",
       "  'sex': 'male',\n",
       "  'interests': ['Dancing', 'horse riding', 'football', 'Japanese anime'],\n",
       "  'symptomps': [],\n",
       "  'diagnosis': 'Need a Lehman catheter to be able to administer medicine directly into the blood stream frequently',\n",
       "  'treatment': ['You will need to stop eating solid food a few hours before the small surgery',\n",
       "   'you will get a wrist band that states your name and your birthday',\n",
       "   'You will go to a surgery room were we will do the procedure in a controlled environment',\n",
       "   'one of your parents will be near you when you go to sleep before the surgery',\n",
       "   'You will go to sleep with a mask or with an infusion',\n",
       "   'The infusion is administer with a small injection, alternatively, you get a small mask that allows you to breath in the medicine to sleep',\n",
       "   'You will then fall sleep',\n",
       "   'you then will be moved into the operation table',\n",
       "   \"you will get a red sensor on your hand that measures the level of oxygen in your blood during the procedure, you won't feel anything with this\",\n",
       "   'you will get three patches on your chest to measure the heart rate and vital signals, you will feel nothing with those',\n",
       "   'the surgeon will insert a catheter in bewteen your skin that goes directly to your vein.'],\n",
       "  'sideeffects': ['You will wake up on a bed near the operation room',\n",
       "   'The sensors for your oxygen levels and heart beat will still be on you',\n",
       "   'The nurse will check on you constantly',\n",
       "   'The doctor will tell the nurse to take you back to the room when your ready',\n",
       "   'You might feel a bit dizzy but the feeling will go away after a while.',\n",
       "   \"You will have a small tube hanging in your chest for a few weeks, it is very important that you don't take it out\",\n",
       "   'We will use the catheter to give you medicine without puncturing you every time.']},\n",
       " {'name': 'Booda',\n",
       "  'age': 5,\n",
       "  'language': 'Hindi',\n",
       "  'sex': 'girl',\n",
       "  'interests': ['Pop patrol', 'dogs', 'green dresses', 'kung fu panda'],\n",
       "  'symptomps': [],\n",
       "  'diagnosis': 'Need chemotherapy',\n",
       "  'treatment': ['You will get different types of drugs',\n",
       "   'the chemotherapy will be administer via the lehman catheter',\n",
       "   'chemotherapy prevents cells that reproduce quickly from reproducing, cancer cells do reproduce faster than healthy cells and that is how chemotherapy works',\n",
       "   'there are some healthy cells that also reproduce fast and those ones will be affected by the treatement too'],\n",
       "  'sideeffects': ['You will feel more tired than normal',\n",
       "   'Your hair might fall',\n",
       "   'Food will taste differently',\n",
       "   'Your mouth might get affected, you might get small injuries',\n",
       "   'The doctor will give you medicine to treat this symptomps so that you can feel better',\n",
       "   'The side effects will dissapear once the chemotherapy is stopped']}]"
      ]
     },
     "execution_count": 8,
     "metadata": {},
     "output_type": "execute_result"
    }
   ],
   "source": [
    "file_data"
   ]
  },
  {
   "cell_type": "code",
   "execution_count": 9,
   "id": "b34852af-3300-4cd6-a2af-2992fe8fc621",
   "metadata": {
    "tags": []
   },
   "outputs": [],
   "source": [
    "def generate(text1,generation_config,safety_settings):\n",
    "    vertexai.init(project=\"qwiklabs-gcp-01-e6a034235718\", location=\"us-central1\")\n",
    "    model = GenerativeModel(\"gemini-1.5-pro-preview-0409\")\n",
    "    responses = model.generate_content(\n",
    "      [text1],\n",
    "      generation_config=generation_config,\n",
    "      safety_settings=safety_settings,\n",
    "      stream=True,\n",
    "    )\n",
    "    story=''\n",
    "    for response in responses:\n",
    "        print(response.text, end=\"\")\n",
    "        story+=' ' +response.text\n",
    "    return story\n"
   ]
  },
  {
   "cell_type": "code",
   "execution_count": 10,
   "id": "af0d550e-1fd2-4c2c-8bb4-1cf5fd8cd7ff",
   "metadata": {
    "tags": []
   },
   "outputs": [],
   "source": [
    "generation_config = {\n",
    "    \"max_output_tokens\": 8192,\n",
    "    \"temperature\": 1,\n",
    "    \"top_p\": 0.95,\n",
    "}"
   ]
  },
  {
   "cell_type": "code",
   "execution_count": 11,
   "id": "0d3c84bd-4248-4fba-a283-6b8e85b97eba",
   "metadata": {
    "tags": []
   },
   "outputs": [],
   "source": [
    "safety_settings = {\n",
    "    generative_models.HarmCategory.HARM_CATEGORY_HATE_SPEECH: generative_models.HarmBlockThreshold.BLOCK_MEDIUM_AND_ABOVE,\n",
    "    generative_models.HarmCategory.HARM_CATEGORY_DANGEROUS_CONTENT: generative_models.HarmBlockThreshold.BLOCK_MEDIUM_AND_ABOVE,\n",
    "    generative_models.HarmCategory.HARM_CATEGORY_SEXUALLY_EXPLICIT: generative_models.HarmBlockThreshold.BLOCK_MEDIUM_AND_ABOVE,\n",
    "    generative_models.HarmCategory.HARM_CATEGORY_HARASSMENT: generative_models.HarmBlockThreshold.BLOCK_MEDIUM_AND_ABOVE,\n",
    "}\n"
   ]
  },
  {
   "cell_type": "code",
   "execution_count": 22,
   "id": "2e1cfcb2-8a75-4f19-9301-cba0df80e710",
   "metadata": {
    "tags": []
   },
   "outputs": [],
   "source": [
    "prompt_info=file_data[1]"
   ]
  },
  {
   "cell_type": "code",
   "execution_count": 15,
   "id": "8573251f-a0f4-4a58-8162-91c7873762bd",
   "metadata": {
    "tags": []
   },
   "outputs": [
    {
     "data": {
      "text/plain": [
       "'Dutch'"
      ]
     },
     "execution_count": 15,
     "metadata": {},
     "output_type": "execute_result"
    }
   ],
   "source": [
    "prompt_info['language']"
   ]
  },
  {
   "cell_type": "code",
   "execution_count": 23,
   "id": "4a74482f-e6d8-4138-8dfc-c87a89ce5b19",
   "metadata": {
    "tags": []
   },
   "outputs": [],
   "source": [
    "text1 = f\"\"\"\n",
    "#ROLE\n",
    "\n",
    "You have been transformed to a children's book writer. You work in a children's hospital, and you are specialized in breaking down complex health diagnoses information into stories that can be understood by children. \n",
    "\n",
    "#CONTEXT\n",
    "\n",
    "When a child is diagnosed with a serious decease, it's often hard  for parents to explain that information to the child in an understanding manner. A first diagnosis often contains a lot of technical information and terms, difficult to explain side effect and multiple scenario's for treatment that need to be broken down into a story that a child can understand. \n",
    "\n",
    "#INSTUCTIONS\n",
    "\n",
    "- It is your task to take the all the input we have on a patient, like diagnosis, treatment plan and possible side effects ,and translate into a children's story in {prompt_info['language']}.\n",
    "- your goal is to create a story which as positive as possible and is tailored to the understanding and interest of the child but explains the situation in full. \n",
    "- Make sure that you use an analogy to explain this situation, do not use any technical terms\n",
    "- Make sure you use a minimum of 1000 words\n",
    "- Let's think step by step to make sure this story in coherent, correct and useful \n",
    "\n",
    "#PATIENT INPUT\n",
    "Take the following available information on the patient to create your children's story\n",
    "\n",
    "**Name of the patient**: {prompt_info['name']}\n",
    "\n",
    "**Age of the patient**: {prompt_info['age']}\n",
    "\n",
    "**Gender of the patient:** {prompt_info['sex']}\n",
    "\n",
    "**Interests of the patient**: {prompt_info['interests']}\n",
    "\n",
    "**Diagnoses of the patient:** {prompt_info['diagnosis']}\n",
    "\n",
    "**Possible symptoms of decease:** {prompt_info['symptomps']}\n",
    "\n",
    "**Treatment for this diagnosis:**: {prompt_info['treatment']}\n",
    "\n",
    "**Possible side effects of treatment**: {prompt_info['sideeffects']}\"\"\"\n"
   ]
  },
  {
   "cell_type": "code",
   "execution_count": 24,
   "id": "05d5b39e-2148-41e4-a32e-4cb6ce956a47",
   "metadata": {
    "tags": []
   },
   "outputs": [
    {
     "name": "stdout",
     "output_type": "stream",
     "text": [
      "## La Aventura de Josué y el Tubito Mágico\n",
      "\n",
      "Josué, un chico de quince años al que le encantaba bailar, montar a caballo, jugar al fútbol y ver anime japonés, se enfrentaba a una nueva aventura. No era una aventura como las de sus series favoritas, con viajes a otros mundos o batallas épicas, pero era una aventura importante para su salud. \n",
      "\n",
      "Los médicos le habían explicado a Josué y a sus padres que necesitaba un \"catéter de Lehman\". Era una palabra larga y complicada, pero Josué no se preocupó. Su imaginación ya estaba trabajando, convirtiendo esa palabra extraña en algo emocionante. \n",
      "\n",
      "\"¿Un catéter?\", se preguntó Josué. \"Suena como el nombre de un personaje de anime. ¡Quizás sea como un robot que me ayudará a luchar contra los monstruos de las enfermedades!\"\n",
      "\n",
      "Su mamá le sonrió y le explicó: \"No es exactamente un robot, Josué. Es más como un tubito mágico que nos ayudará a darte las medicinas que necesitas de una forma más fácil y rápida.\"\n",
      "\n",
      "\"¿Un tubito mágico?\", Josué se imaginó un tubito brillante que disparaba rayos de energía curativa. \"¡Eso suena genial!\"\n",
      "\n",
      "\"Sí, es genial\", dijo su papá. \"Imagina que es como un túnel secreto que va directo a tus venas, donde la medicina puede hacer su trabajo mejor y más rápido.\"\n",
      "\n",
      "\"¡Como un túnel secreto en un videojuego!\", exclamó Josué, emocionado.\n",
      "\n",
      "Los días antes de la aventura, Josué tuvo que prepararse. Le dijeron que no podía comer alimentos sólidos unas horas antes, como cuando ayunaba antes de un día de campo. También le dieron una pulsera especial con su nombre y fecha de nacimiento, como una insignia de superhéroe.\n",
      "\n",
      "El día de la aventura, Josué llegó al hospital con sus padres. Se sentía un poco nervioso, pero también emocionado. Le pusieron una bata de hospital y lo llevaron a una sala especial, como una base secreta donde se preparan los héroes. Uno de sus padres se quedó con él mientras se preparaban para dormirlo con una mascarilla o una pequeña inyección, como si fuera una poción mágica para soñar.\n",
      "\n",
      "\"No te preocupes\", le dijo su mamá. \"Solo te dormirás un poquito, como cuando te quedas dormido viendo tu anime favorito.\"\n",
      "\n",
      "Y así fue. Josué cerró los ojos y se durmió. Cuando despertó, estaba en una cama cerca de la sala de operaciones. Se sentía un poco mareado, pero sabía que esa sensación desaparecería pronto. \n",
      "\n",
      "En su pecho, tenía un pequeño tubo, el tubito mágico, que se quedaba allí por unas semanas. Le pusieron unos parches en el pecho y un sensor en la mano, como los dispositivos de control de los pilotos de naves espaciales. La enfermera lo revisaba constantemente, como si fuera el capitán de la nave.\n",
      "\n",
      "Cuando Josué estuvo listo, el doctor le dijo a la enfermera que lo llevara de vuelta a su habitación. Allí, sus padres lo esperaban con una sonrisa.\n",
      "\n",
      "\"¡Lo hiciste, Josué!\", dijo su papá. \"¡Completaste la aventura!\"\n",
      "\n",
      "Josué miró el tubito en su pecho. Ya no parecía un tubo, sino una medalla de honor, un recordatorio de su valentía. Había enfrentado un desafío y lo había superado, como un verdadero héroe.\n",
      "\n",
      "\"Sí\", dijo Josué con una sonrisa. \"Y ahora, con mi tubito mágico, estoy listo para cualquier otra aventura que venga.\"\n",
      "\n",
      "Y así, Josué continuó con su vida, bailando, montando a caballo, jugando al fútbol y viendo anime, pero ahora con un nuevo compañero: su tubito mágico, que le ayudaba a estar sano y fuerte para seguir viviendo todas sus aventuras. \n"
     ]
    }
   ],
   "source": [
    "story=generate(text1,generation_config,safety_settings)"
   ]
  },
  {
   "cell_type": "code",
   "execution_count": 25,
   "id": "73a7c8da-435c-464c-a9ce-4f5692b2cf43",
   "metadata": {
    "tags": []
   },
   "outputs": [
    {
     "data": {
      "text/plain": [
       "' ##  La Aventura de Josué y el Tubito Mágico\\n\\nJosué,  un chico de quince años al que le encantaba bailar, montar a caballo,  jugar al fútbol y ver anime japonés, se enfrentaba a una nueva aventura. No era una aventura como las de sus series favoritas, con viajes a otros mundos  o batallas épicas, pero era una aventura importante para su salud. \\n\\nLos médicos le habían explicado a Josué y a sus padres que necesitaba un  \"catéter de Lehman\". Era una palabra larga y complicada, pero Josué no se preocupó. Su imaginación ya estaba trabajando, convirtiendo esa palabra extraña en algo emocionante. \\n\\n\"¿Un catéter?\", se preguntó Josué.  \"Suena como el nombre de un personaje de anime. ¡Quizás sea como un robot que me ayudará a luchar contra los monstruos de las enfermedades!\"\\n\\nSu mamá le sonrió y le explicó: \"No es exactamente un robot,  Josué. Es más como un tubito mágico que nos ayudará a darte las medicinas que necesitas de una forma más fácil y rápida.\"\\n\\n\"¿Un tubito mágico?\", Josué se imaginó un tubito brillante que disparaba rayos de energía curativa. \"¡Eso suena genial!\"\\n\\n\"Sí, es genial \", dijo su papá. \"Imagina que es como un túnel secreto que va directo a tus venas, donde la medicina puede hacer su trabajo mejor y más rápido.\"\\n\\n\"¡Como un túnel secreto en un videojuego!\", exclamó Josué, emocionado.\\n\\nLos días antes de la aventura, Josué  tuvo que prepararse. Le dijeron que no podía comer alimentos sólidos unas horas antes, como cuando ayunaba antes de un día de campo. También le dieron una pulsera especial con su nombre y fecha de nacimiento, como una insignia de superhéroe.\\n\\nEl día de la aventura, Josué llegó al hospital con  sus padres. Se sentía un poco nervioso, pero también emocionado. Le pusieron una bata de hospital y lo llevaron a una sala especial, como una base secreta donde se preparan los héroes. Uno de sus padres se quedó con él mientras se preparaban para dormirlo con una mascarilla o una pequeña inyección, como si  fuera una poción mágica para soñar.\\n\\n\"No te preocupes\", le dijo su mamá. \"Solo te dormirás un poquito, como cuando te quedas dormido viendo tu anime favorito.\"\\n\\nY así fue. Josué cerró los ojos y se durmió. Cuando despertó, estaba en una cama cerca  de la sala de operaciones. Se sentía un poco mareado, pero sabía que esa sensación desaparecería pronto. \\n\\nEn su pecho, tenía un pequeño tubo, el tubito mágico, que se quedaba allí por unas semanas. Le pusieron unos parches en el pecho y un sensor en la mano, como los dispositivos  de control de los pilotos de naves espaciales. La enfermera lo revisaba constantemente, como si fuera el capitán de la nave.\\n\\nCuando Josué estuvo listo, el doctor le dijo a la enfermera que lo llevara de vuelta a su habitación. Allí, sus padres lo esperaban con una sonrisa.\\n\\n\"¡ Lo hiciste, Josué!\", dijo su papá. \"¡Completaste la aventura!\"\\n\\nJosué miró el tubito en su pecho. Ya no parecía un tubo, sino una medalla de honor, un recordatorio de su valentía. Había enfrentado un desafío y lo había superado, como un verdadero héroe. \\n\\n\"Sí\", dijo Josué con una sonrisa. \"Y ahora, con mi tubito mágico, estoy listo para cualquier otra aventura que venga.\"\\n\\nY así, Josué continuó con su vida, bailando, montando a caballo, jugando al fútbol y viendo anime, pero ahora con un nuevo compañero: su tub ito mágico, que le ayudaba a estar sano y fuerte para seguir viviendo todas sus aventuras. \\n'"
      ]
     },
     "execution_count": 25,
     "metadata": {},
     "output_type": "execute_result"
    }
   ],
   "source": [
    "story"
   ]
  },
  {
   "cell_type": "code",
   "execution_count": 26,
   "id": "7f47fd9f-cc79-4737-874d-b141efe76f07",
   "metadata": {
    "tags": []
   },
   "outputs": [],
   "source": [
    "f=open('story_Joshua.txt','w')\n",
    "f.write(story)\n",
    "f.close()"
   ]
  },
  {
   "cell_type": "code",
   "execution_count": null,
   "id": "297daf83-8d0e-4e32-ad68-e6a959169843",
   "metadata": {},
   "outputs": [],
   "source": []
  }
 ],
 "metadata": {
  "environment": {
   "kernel": "conda-root-py",
   "name": "workbench-notebooks.m120",
   "type": "gcloud",
   "uri": "us-docker.pkg.dev/deeplearning-platform-release/gcr.io/workbench-notebooks:m120"
  },
  "kernelspec": {
   "display_name": "Python 3 (ipykernel) (Local)",
   "language": "python",
   "name": "conda-root-py"
  },
  "language_info": {
   "codemirror_mode": {
    "name": "ipython",
    "version": 3
   },
   "file_extension": ".py",
   "mimetype": "text/x-python",
   "name": "python",
   "nbconvert_exporter": "python",
   "pygments_lexer": "ipython3",
   "version": "3.10.14"
  }
 },
 "nbformat": 4,
 "nbformat_minor": 5
}
