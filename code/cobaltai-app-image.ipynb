{
 "cells": [
  {
   "cell_type": "code",
   "execution_count": 32,
   "id": "e7124934-5747-4c78-8a3f-706226972231",
   "metadata": {
    "tags": []
   },
   "outputs": [
    {
     "data": {
      "text/plain": [
       "' ##  बूदा की बहादुरी की कहानी \\n\\nबू दा, क्या तुमने कभी पॉप पेट्रोल देखा है? वे  कितने बहादुर होते हैं ना, हमेशा लोगों की मदद के लिए तैयार! आज, मैं तुम्हें एक कहानी सुनाऊ ँगी जिसमें तुम खुद एक बहादुर पॉप पेट्रोल हो!\\n\\nतुम्हें पता है, हमारे शरीर में बहुत सारी  छोटी-छोटी कोशिकाएँ होती हैं, जैसे तुम्हारे खिलौनों का एक बड़ा समूह। ये कोशिकाएँ मिलकर तुम्हारा पूरा शरीर बनाती हैं, तुम्ह ारे बाल, तुम्हारी त्वचा, तुम्हारी हड्डियाँ, सब कुछ!  ये कोशिकाएँ हमेशा बढ़ती और बदलती रहती हैं, ठीक वैसे ही जैसे तुम बड़ ी हो रही हो। पर कभी-कभी, कुछ कोशिकाएँ शरारती हो जाती हैं और बहुत तेजी से बढ़ने लगती हैं, जैसे कि वे एक खेल खेल रही हों। ये शरारती कोशिकाएँ हमारे शरीर को परेशान करती हैं, और इन्हें  हम “कैंसर कोशिकाएँ” कहते हैं।\\n\\nअब, बूदा, तुम्हारे शरीर में भी कुछ ऐसी शरारती कोशिकाएँ आ गई हैं। लेकिन घबराओ मत, तुम एक बहादुर पॉप पेट्रोल हो, और हम  इन शरारती कोशिकाओं से लड़ने के लिए तैयार हैं! \\n\\nहमारे पास एक खास दवा है, जिसे हम \"कीमोथेरेपी\" कहते हैं। ये दवा उन तेजी से बढ़ने वाली कोशिकाओं को रोकती है। यह  ऐसा है जैसे हम इन कोशिकाओं को कहते हैं, \"अरे, धीरे चलो! इतनी जल्दी मत करो!\" इस दवा से कैंसर कोशिकाएँ धीरे हो जाती हैं और फिर गायब हो जाती हैं। \\n\\nइस दवा को तुम् हारे शरीर में पहुँचाने के लिए, हम एक छोटी सी नली का इस्तेमाल करेंगे, जिसे हम \"लेहमैन कैथेटर\" कहते हैं। यह नली एक जादुई सुरंग की तरह है जो दवा को सीधे उन शरारती कोशिकाओं  तक पहुँचाती है।\\n\\nकभी-कभी, कीमोथेरेपी कुछ अच्छी कोशिकाओं को भी धीमा कर देती है, जैसे कि तुम्हारे बालों की कोशिकाएँ। इसीलिए तुम्हारे बाल थोड़े झड़ सकते हैं , लेकिन चिंता मत करो, ये बाल वापस आ जाएँगे, और तब तक हम बहुत सारे सुन्दर स्कार्फ और टोपी पहन सकते हैं, जैसे कि कुंग फू पांडा! \\n\\nतुम्हें थोड़ी थकान  भी महसूस हो सकती है, पर इसका मतलब है कि तुम्हारे शरीर के अंदर की पॉप पेट्रोल टीम बहुत मेहनत कर रही है! आराम करना और खेलना जरूरी है, ठीक वैसे ही जैसे पॉप पेट्रोल आराम  करते हैं और खेलते हैं। \\n\\nखाना भी थोड़ा अलग लग सकता है, पर हम बहुत सारे नए और स्वादिष्ट खाने की कोशिश करेंगे, जैसे कि हरे रंग की आइसक्रीम, क्योंकि हरा रंग तुम्हारा पसंदीदा है,  है ना? \\n\\nऔर अगर तुम्हारे मुँह में कोई छोटी सी तकलीफ होती है, तो हमारे पास जादुई दवाइयाँ हैं जो उसे ठीक कर देंगी। याद रखना, डॉक्टर और नर्स तुम्हारी मदद के लिए हमेशा  मौजूद हैं, जैसे कि पॉप पेट्रोल के राइडर और रोबो-डॉग! \\n\\nबूदा, तुम बहुत बहादुर हो! तुम्हारे अंदर की पॉप पेट्रोल टीम उन शरारती कोशिकाओं से लड़  रही है, और हम सब तुम्हारे साथ हैं। हम खेलेंगे, हँसेंगे, और जल्द ही तुम फिर से अपने हरे रंग के कपड़े पहनकर दौड़ने लगोगी, ठीक कुंग फू पांडा की तरह! \\n'"
      ]
     },
     "execution_count": 32,
     "metadata": {},
     "output_type": "execute_result"
    }
   ],
   "source": [
    "story=open(\"story_booda.txt\",\"r\")\n",
    "story=story.read()\n",
    "story"
   ]
  },
  {
   "cell_type": "code",
   "execution_count": 33,
   "id": "65fe18b0-c8e4-401a-b278-b5528a8091e1",
   "metadata": {
    "tags": []
   },
   "outputs": [],
   "source": [
    "import env\n",
    "from google.cloud import storage\n",
    "import json\n",
    "import base64\n",
    "import vertexai\n",
    "from vertexai.generative_models import GenerativeModel, Part, FinishReason\n",
    "import vertexai.preview.generative_models as generative_models"
   ]
  },
  {
   "cell_type": "code",
   "execution_count": 34,
   "id": "17c7b076-08aa-49c4-95cc-d7522422a848",
   "metadata": {
    "tags": []
   },
   "outputs": [],
   "source": [
    "generation_config = {\n",
    "    \"max_output_tokens\": 8192,\n",
    "    \"temperature\": 1,\n",
    "    \"top_p\": 0.95,\n",
    "}"
   ]
  },
  {
   "cell_type": "code",
   "execution_count": 35,
   "id": "b99eae26-9bde-4b37-8556-e2135fe01d83",
   "metadata": {
    "tags": []
   },
   "outputs": [],
   "source": [
    "safety_settings = {\n",
    "    generative_models.HarmCategory.HARM_CATEGORY_HATE_SPEECH: generative_models.HarmBlockThreshold.BLOCK_MEDIUM_AND_ABOVE,\n",
    "    generative_models.HarmCategory.HARM_CATEGORY_DANGEROUS_CONTENT: generative_models.HarmBlockThreshold.BLOCK_MEDIUM_AND_ABOVE,\n",
    "    generative_models.HarmCategory.HARM_CATEGORY_SEXUALLY_EXPLICIT: generative_models.HarmBlockThreshold.BLOCK_MEDIUM_AND_ABOVE,\n",
    "    generative_models.HarmCategory.HARM_CATEGORY_HARASSMENT: generative_models.HarmBlockThreshold.BLOCK_MEDIUM_AND_ABOVE,\n",
    "}"
   ]
  },
  {
   "cell_type": "code",
   "execution_count": 36,
   "id": "15436fff-568d-4782-a657-ab07867d8ce1",
   "metadata": {
    "tags": []
   },
   "outputs": [],
   "source": [
    "def generate(text1,generation_config,safety_settings):\n",
    "    vertexai.init(project=\"qwiklabs-gcp-01-e6a034235718\", location=\"us-central1\")\n",
    "    model = GenerativeModel(\"gemini-1.5-pro-preview-0409\")\n",
    "    responses = model.generate_content(\n",
    "      [text1],\n",
    "      generation_config=generation_config,\n",
    "      safety_settings=safety_settings,\n",
    "      stream=False,\n",
    "    )\n",
    "    # print(responses)\n",
    "    return responses.text"
   ]
  },
  {
   "cell_type": "code",
   "execution_count": 37,
   "id": "e892290a-a95d-4fcc-a645-af35f7adb13a",
   "metadata": {
    "tags": []
   },
   "outputs": [
    {
     "data": {
      "text/plain": [
       "' ##  बूदा की बहादुरी की कहानी \\n\\nबू दा, क्या तुमने कभी पॉप पेट्रोल देखा है? वे  कितने बहादुर होते हैं ना, हमेशा लोगों की मदद के लिए तैयार! आज, मैं तुम्हें एक कहानी सुनाऊ ँगी जिसमें तुम खुद एक बहादुर पॉप पेट्रोल हो!\\n\\nतुम्हें पता है, हमारे शरीर में बहुत सारी  छोटी-छोटी कोशिकाएँ होती हैं, जैसे तुम्हारे खिलौनों का एक बड़ा समूह। ये कोशिकाएँ मिलकर तुम्हारा पूरा शरीर बनाती हैं, तुम्ह ारे बाल, तुम्हारी त्वचा, तुम्हारी हड्डियाँ, सब कुछ!  ये कोशिकाएँ हमेशा बढ़ती और बदलती रहती हैं, ठीक वैसे ही जैसे तुम बड़ ी हो रही हो। पर कभी-कभी, कुछ कोशिकाएँ शरारती हो जाती हैं और बहुत तेजी से बढ़ने लगती हैं, जैसे कि वे एक खेल खेल रही हों। ये शरारती कोशिकाएँ हमारे शरीर को परेशान करती हैं, और इन्हें  हम “कैंसर कोशिकाएँ” कहते हैं।\\n\\nअब, बूदा, तुम्हारे शरीर में भी कुछ ऐसी शरारती कोशिकाएँ आ गई हैं। लेकिन घबराओ मत, तुम एक बहादुर पॉप पेट्रोल हो, और हम  इन शरारती कोशिकाओं से लड़ने के लिए तैयार हैं! \\n\\nहमारे पास एक खास दवा है, जिसे हम \"कीमोथेरेपी\" कहते हैं। ये दवा उन तेजी से बढ़ने वाली कोशिकाओं को रोकती है। यह  ऐसा है जैसे हम इन कोशिकाओं को कहते हैं, \"अरे, धीरे चलो! इतनी जल्दी मत करो!\" इस दवा से कैंसर कोशिकाएँ धीरे हो जाती हैं और फिर गायब हो जाती हैं। \\n\\nइस दवा को तुम् हारे शरीर में पहुँचाने के लिए, हम एक छोटी सी नली का इस्तेमाल करेंगे, जिसे हम \"लेहमैन कैथेटर\" कहते हैं। यह नली एक जादुई सुरंग की तरह है जो दवा को सीधे उन शरारती कोशिकाओं  तक पहुँचाती है।\\n\\nकभी-कभी, कीमोथेरेपी कुछ अच्छी कोशिकाओं को भी धीमा कर देती है, जैसे कि तुम्हारे बालों की कोशिकाएँ। इसीलिए तुम्हारे बाल थोड़े झड़ सकते हैं , लेकिन चिंता मत करो, ये बाल वापस आ जाएँगे, और तब तक हम बहुत सारे सुन्दर स्कार्फ और टोपी पहन सकते हैं, जैसे कि कुंग फू पांडा! \\n\\nतुम्हें थोड़ी थकान  भी महसूस हो सकती है, पर इसका मतलब है कि तुम्हारे शरीर के अंदर की पॉप पेट्रोल टीम बहुत मेहनत कर रही है! आराम करना और खेलना जरूरी है, ठीक वैसे ही जैसे पॉप पेट्रोल आराम  करते हैं और खेलते हैं। \\n\\nखाना भी थोड़ा अलग लग सकता है, पर हम बहुत सारे नए और स्वादिष्ट खाने की कोशिश करेंगे, जैसे कि हरे रंग की आइसक्रीम, क्योंकि हरा रंग तुम्हारा पसंदीदा है,  है ना? \\n\\nऔर अगर तुम्हारे मुँह में कोई छोटी सी तकलीफ होती है, तो हमारे पास जादुई दवाइयाँ हैं जो उसे ठीक कर देंगी। याद रखना, डॉक्टर और नर्स तुम्हारी मदद के लिए हमेशा  मौजूद हैं, जैसे कि पॉप पेट्रोल के राइडर और रोबो-डॉग! \\n\\nबूदा, तुम बहुत बहादुर हो! तुम्हारे अंदर की पॉप पेट्रोल टीम उन शरारती कोशिकाओं से लड़  रही है, और हम सब तुम्हारे साथ हैं। हम खेलेंगे, हँसेंगे, और जल्द ही तुम फिर से अपने हरे रंग के कपड़े पहनकर दौड़ने लगोगी, ठीक कुंग फू पांडा की तरह! \\n'"
      ]
     },
     "execution_count": 37,
     "metadata": {},
     "output_type": "execute_result"
    }
   ],
   "source": [
    "story"
   ]
  },
  {
   "cell_type": "code",
   "execution_count": 38,
   "id": "e0614433-51ca-43e0-9a87-ab5da2e610ff",
   "metadata": {
    "tags": []
   },
   "outputs": [],
   "source": [
    "text=f'''\n",
    "I'll provide a story, and please break it down into manageable chunks perfect for young readers (ages 5-15).\n",
    "Image Prompts: For each section, you'll create an image prompt in English to capture the scene.\n",
    "Character Description: Briefly describe the main character's appearance, including things like age, clothing, and any special features.\n",
    "Background Story: Give a little background on the character and what has happened in the story so far.\n",
    "Scene Description: Describe the specific scene that takes place on the page.\n",
    "Story Snippets: Add the manageable chunks to the corresponding story text for that page in the original language. also delimit story snippets by symbol (\"$\").\n",
    "\n",
    "Separate each page prompt with a pipe symbol (\"|\").\n",
    "\n",
    "Story:\n",
    "{story}\n",
    "'''"
   ]
  },
  {
   "cell_type": "code",
   "execution_count": 39,
   "id": "8d02e065-f948-4fe7-a065-76e49e87a0cf",
   "metadata": {
    "tags": []
   },
   "outputs": [],
   "source": [
    "scenes=generate(text,generation_config,safety_settings)"
   ]
  },
  {
   "cell_type": "code",
   "execution_count": 40,
   "id": "bd4fbd70-c6b9-499c-b4b0-214cbb1644b5",
   "metadata": {
    "tags": []
   },
   "outputs": [
    {
     "name": "stdout",
     "output_type": "stream",
     "text": [
      "## Page 1\n",
      "\n",
      "**Image Prompt:** A young child, dressed in a vibrant green outfit, stands confidently with their hands on their hips, surrounded by colorful representations of healthy cells. \n",
      "\n",
      "**Character Description:** Buda is a young child around 5 years old, with bright eyes and a cheerful smile. They are wearing their favorite green clothes, which make them feel like a superhero.\n",
      "\n",
      "**Background Story:** Buda has just learned that they have some mischievous cells in their body called cancer cells. However, they are also learning that they are a brave Pop Patrol member who will fight these cells with the help of a special medicine.\n",
      "\n",
      "**Scene Description:** The story begins by introducing Buda and explaining the concept of cells in their body, comparing them to a large group of toys. \n",
      "\n",
      "**Story Snippets:**\n",
      "\n",
      "$ बू दा, क्या तुमने कभी पॉप पेट्रोल देखा है? वे  कितने बहादुर होते हैं ना, हमेशा लोगों की मदद के लिए तैयार! आज, मैं तुम्हें एक कहानी सुनाऊ ँगी जिसमें तुम खुद एक बहादुर पॉप पेट्रोल हो! $\n",
      "\n",
      "$ तुम्हें पता है, हमारे शरीर में बहुत सारी  छोटी-छोटी कोशिकाएँ होती हैं, जैसे तुम्हारे खिलौनों का एक बड़ा समूह। ये कोशिकाएँ मिलकर तुम्हारा पूरा शरीर बनाती हैं, तुम्ह ारे बाल, तुम्हारी त्वचा, तुम्हारी हड्डियाँ, सब कुछ!  ये कोशिकाएँ हमेशा बढ़ती और बदलती रहती हैं, ठीक वैसे ही जैसे तुम बड़ ी हो रही हो। $ \n",
      "\n",
      "---\n",
      "\n",
      "## Page 2\n",
      "\n",
      "**Image Prompt:** Buda, wearing a superhero cape, aims a toy ray gun at a group of spiky, dark cells representing the cancer cells.  A friendly doctor stands beside them, holding a syringe filled with colorful medicine.\n",
      "\n",
      "**Character Description:** Buda is still wearing their green outfit, but now they have added a superhero cape, showing their bravery. \n",
      "\n",
      "**Background Story:** Buda has learned about the cancer cells and is ready to fight them like a Pop Patrol member. They are about to discover the special medicine that will help them.\n",
      "\n",
      "**Scene Description:** The story introduces the concept of cancer cells as mischievous cells playing a game and growing too fast. It then introduces the \"chemotherapy\" medicine that will help slow them down.\n",
      "\n",
      "**Story Snippets:** \n",
      "\n",
      "$ पर कभी-कभी, कुछ कोशिकाएँ शरारती हो जाती हैं और बहुत तेजी से बढ़ने लगती हैं, जैसे कि वे एक खेल खेल रही हों। ये शरारती कोशिकाएँ हमारे शरीर को परेशान करती हैं, और इन्हें  हम “कैंसर कोशिकाएँ” कहते हैं। $\n",
      "\n",
      "$ अब, बूदा, तुम्हारे शरीर में भी कुछ ऐसी शरारती कोशिकाएँ आ गई हैं। लेकिन घबराओ मत, तुम एक बहादुर पॉप पेट्रोल हो, और हम  इन शरारती कोशिकाओं से लड़ने के लिए तैयार हैं!  $\n",
      "\n",
      "$ हमारे पास एक खास दवा है, जिसे हम \"कीमोथेरेपी\" कहते हैं। ये दवा उन तेजी से बढ़ने वाली कोशिकाओं को रोकती है। यह  ऐसा है जैसे हम इन कोशिकाओं को कहते हैं, \"अरे, धीरे चलो! इतनी जल्दी मत करो!\" इस दवा से कैंसर कोशिकाएँ धीरे हो जाती हैं और फिर गायब हो जाती हैं। $ \n",
      "\n",
      "--- \n",
      "\n",
      "## Page 3 \n",
      "\n",
      "**Image Prompt:** Buda, with a determined expression, sits comfortably while a kind nurse inserts a thin, flexible tube (representing the Lehman catheter) into their chest. The tube leads to a group of dark cells, which are shrinking away from the colorful medicine flowing through it. \n",
      "\n",
      "**Character Description:** Buda might look a bit concerned, but their eyes still show bravery as they understand the importance of the medicine.\n",
      "\n",
      "**Background Story:** Buda is about to receive the chemotherapy medicine through a special tube called a Lehman catheter. \n",
      "\n",
      "**Scene Description:** The story explains how the medicine will be delivered through a Lehman catheter, comparing it to a magical tunnel reaching the mischievous cells. \n",
      "\n",
      "**Story Snippets:**\n",
      "\n",
      "$ इस दवा को तुम् हारे शरीर में पहुँचाने के लिए, हम एक छोटी सी नली का इस्तेमाल करेंगे, जिसे हम \"लेहमैन कैथेटर\" कहते हैं। यह नली एक जादुई सुरंग की तरह है जो दवा को सीधे उन शरारती कोशिकाओं  तक पहुँचाती है। $ \n",
      "\n"
     ]
    }
   ],
   "source": [
    "print(scenes)"
   ]
  },
  {
   "cell_type": "code",
   "execution_count": 26,
   "id": "2cc92849-2df1-4443-a768-0e9dfae53570",
   "metadata": {
    "tags": []
   },
   "outputs": [
    {
     "name": "stdout",
     "output_type": "stream",
     "text": [
      "## Page 1\n",
      "\n",
      "**Image Prompt:** A young girl hugging a big, fluffy pink teddy bear. In the background, there's a cutaway view of her bone with a castle inside, filled with different colored knights.\n",
      "\n",
      "**Character Description:** Sara is a young girl around 5 years old with bright eyes and a curious smile. She wears a colorful dress and has her hair in pigtails.\n",
      "\n",
      "**Background Story:** Sara just received a soft, cuddly teddy bear, which reminds her of something special inside her own body – bone marrow. \n",
      "\n",
      "**Scene Description:** Sara is introduced to the concept of bone marrow and blood cell knights living inside her bones.\n",
      "\n",
      "**Story Snippet:** $Sara, weet je nog dat je die mooie roze teddybeer kreeg? Zo zacht en knuffelig! Net zoals die beer, heeft jouw lichaam ook iets heel zachts en belangrijks vanbinnen: beenmerg. Beenmerg is als een kasteel diep in je botten, waar dappere ridders wonen. Maar dit zijn geen gewone ridders, het zijn bloedcelridders!$ \n",
      "\n",
      "---\n",
      "\n",
      "## Page 2\n",
      "\n",
      "**Image Prompt:** The inside of the bone marrow castle with three different types of knights: red knights carrying oxygen, white knights fighting green germs with swords and shields, and small, quick knights patching up a crack in the bone wall.\n",
      "\n",
      "**Character Description:** Same as before. \n",
      "\n",
      "**Background Story:** Sara learns about the different types of blood cell knights and their important tasks.\n",
      "\n",
      "**Scene Description:** The different blood cell knights are introduced: red blood cells, white blood cells, and platelets, each with their own unique function. \n",
      "\n",
      "**Story Snippet:** $Er zijn verschillende soorten bloedcelridders, elk met een speciale taak. Sommige, zoals de rode ridders, brengen zuurstof rond in je lichaam, net zoals paarden karren met hooi trekken. Andere, de witte ridders, vechten tegen ziektekiemen en bacteriën, alsof ze met zwaarden en schilden tegen draken vechten. En dan zijn er nog de kleine, snelle ridders, de bloedplaatjes, die zorgen dat je niet te veel bloedt als je je pijn doet, net zoals kleine pleisters die wondjes dichtplakken.$\n",
      "\n",
      "---\n",
      "\n",
      "## Page 3\n",
      "\n",
      "**Image Prompt:** Sara with a sad face, holding her arm with a bruise. There are also images of her feeling tired and having a thermometer in her mouth. \n",
      "\n",
      "**Character Description:** Same as before, but now Sara looks a bit tired and has a bruise on her arm.\n",
      "\n",
      "**Background Story:** Sara learns that sometimes the blood cell knights might not be working properly, leading to feeling unwell.\n",
      "\n",
      "**Scene Description:** The story explains how problems with the blood cell knights can cause symptoms like bone pain, bruising, fatigue, and fever. \n",
      "\n",
      "**Story Snippet:** $Soms gebeurt het dat de ridders in het kasteel niet helemaal goed werken. Misschien zijn ze een beetje moe, of is er iets mis met hun wapens en schilden. Dat kan ervoor zorgen dat je je niet zo lekker voelt. Je hebt dan misschien pijn in je botten, alsof er kleine steentjes in je schoenen zitten. Of je krijgt blauwe plekken, alsof je een klein gevecht met een draak hebt gehad. Soms wil je misschien niet lopen, omdat je ridders te moe zijn om je benen te laten bewegen. En soms krijg je koorts, alsof je lichaam een beetje oververhit raakt van al het vechten tegen de ziektekiemen.$ \n",
      "---\n",
      "\n",
      "## Page 4 \n",
      "\n",
      "**Image Prompt:** A friendly doctor showing Sara a thin needle and a magical potion with sparkling stars. Sara is looking curious and a little bit nervous.\n",
      "\n",
      "**Character Description:** Same as before. The doctor is wearing a white coat and has a kind smile.\n",
      "\n",
      "**Background Story:** The story explains that doctors need to examine the bone marrow to understand what's wrong with the blood cell knights.\n",
      "\n",
      "**Scene Description:** The process of bone marrow aspiration is explained in a child-friendly way, comparing it to blowing up a balloon.  \n",
      "\n",
      "**Story Snippet:** $Om te weten wat er met de ridders in jouw kasteel aan de hand is, willen de dokters een kijkje nemen in het beenmerg. Weet je nog hoe je met je vriendjes ballonnetjes opblies en liet vliegen? Zo gaat het een beetje. De dokters gebruiken een speciale, dunne naald om een klein beetje van het beenmerg op te zuigen, net zoals je lucht in een ballon blaast. Omdat het misschien een beetje pijn doet, krijg je eerst een speciale slaapdrankje, zodat je even lekker droomt over roze teddyberen en dappere ridders.$\n",
      "\n",
      " ---\n",
      "\n",
      "## Page 5\n",
      "\n",
      "**Image Prompt:**  Sara is playing happily with her toys, surrounded by healthy and strong blood cell knights. \n",
      "\n",
      "**Character Description:** Sara is back to her cheerful self, full of energy.\n",
      "\n",
      "**Background Story:** Doctors can help the blood cell knights become strong and healthy again.\n",
      "\n",
      "**Scene Description:** The story concludes by explaining that the procedure might cause some mild discomfort but will ultimately help Sara feel better and play again. \n",
      "\n",
      "**Story Snippet:** $Als de dokters weten wat er mis is met de bloedcelridders, kunnen ze je helpen om ze weer sterk en gezond te maken. Misschien krijgen ze een speciaal drankje om ze energie te geven, of nieuwe wapens en schilden om beter te vechten tegen de ziektekiemen. Na het kleine prikje in je rug, kan het zijn dat het een beetje jeukt, alsof er een klein mugje op je rug heeft gezeten. Maar dat gaat snel weer over, en dan kan je weer spelen met je ballonnetjes en paardje rijden, met de dapperste bloedcelridders aan je zijde!$ \n",
      "\n"
     ]
    }
   ],
   "source": [
    "print(scenes)\n"
   ]
  },
  {
   "cell_type": "code",
   "execution_count": 12,
   "id": "8edc7dbb-f46f-4c3c-86c7-bafd20e9f715",
   "metadata": {
    "collapsed": true,
    "jupyter": {
     "outputs_hidden": true
    },
    "tags": []
   },
   "outputs": [
    {
     "name": "stdout",
     "output_type": "stream",
     "text": [
      "## Sara en de dappere bloedcelridders - Page Prompts\n",
      "\n",
      "| **Page 1 Prompt** | \n",
      "|---|\n",
      "**Character:** Sara is a young girl around 6-8 years old with bright eyes and a curious smile. She is wearing pajamas and hugging a fluffy pink teddy bear.\n",
      "**Background:** Sara has been feeling unwell lately, with tiredness, aches, and bruises. \n",
      "**Scene:** Sara sits on her bed, clutching her teddy bear. Her room is cozy with toys scattered around. The focus is on Sara and her teddy bear, with a soft, concerned expression on her face. |\n",
      "\n",
      "| **Page 2 Prompt** |\n",
      "|---|\n",
      "**Character:**  We see a cross-section of a bone, revealing the marrow inside.  The bone marrow is depicted as a bustling castle, with different types of blood cell knights. \n",
      "**Background:**  The story introduces the concept of bone marrow as a castle where blood cell knights reside.\n",
      "**Scene:** Red blood cell knights, shaped like red discs with happy faces, carry oxygen bubbles throughout the castle. White blood cell knights, resembling white spheres with determined expressions and carrying shields and swords, patrol the castle walls, looking for invaders. Tiny platelet knights, shaped like small plates with smiling faces, work together to patch up any cracks in the castle walls. | \n",
      "\n",
      "| **Page 3 Prompt** | \n",
      "|---|\n",
      "**Character:** The blood cell knights appear tired, some with broken shields or bandaged arms. \n",
      "**Background:** The story explains that Sara's discomfort is due to the blood cell knights not functioning properly.\n",
      "**Scene:** A red blood cell knight struggles to pull an oxygen bubble, a white blood cell knight has a bandaged arm and a bent sword, and a group of platelet knights are trying to patch a large crack in the castle wall. |\n",
      "\n",
      "| **Page 4 Prompt** |\n",
      "|---|\n",
      "**Character:**  Sara is lying on a hospital bed, a doctor and nurse are beside her. The doctor holds a thin, long needle.  \n",
      "**Background:** Sara needs a bone marrow test to understand what's wrong with her blood cell knights.\n",
      "**Scene:**  The doctor smiles reassuringly at Sara, who looks a little nervous but also curious. The nurse holds a colorful toy to distract Sara. The room is bright and child-friendly, with cheerful posters on the walls. | \n",
      "\n",
      "| **Page 5 Prompt** |\n",
      "|---| \n",
      "**Character:**  Sara is back in her bed at home, a band-aid is visible on her lower back. She is smiling and playing with her teddy bear. \n",
      "**Background:** The bone marrow test is done, and Sara is recovering.\n",
      "**Scene:** Sara's room is filled with sunlight. She is sitting up in bed, surrounded by toys and books. Her teddy bear sits beside her, and she has a content expression on her face. | \n",
      "\n"
     ]
    }
   ],
   "source": [
    "print(scenes)\n"
   ]
  },
  {
   "cell_type": "code",
   "execution_count": 59,
   "id": "f7b223de-780b-4a43-9486-baa541bea4c8",
   "metadata": {
    "collapsed": true,
    "jupyter": {
     "outputs_hidden": true
    },
    "tags": []
   },
   "outputs": [
    {
     "name": "stdout",
     "output_type": "stream",
     "text": [
      "## Sara en de dappere bloedcelridders - Page Prompts\n",
      "\n",
      "**| Page 1 Prompt**\n",
      "\n",
      "**Character:** Sara, a young girl around 8 years old, with bright eyes and a curious smile. She wears pajamas with a pink teddy bear pattern.\n",
      "**Background:** Sara just received a new teddy bear, which reminds her of the important \"teddy bear\" inside her bones – bone marrow. \n",
      "**Scene:** Sara hugs her new teddy bear tightly while sitting up in bed. The room is cozy with soft lighting and children's drawings on the walls. \n",
      "\n",
      "**| Page 2 Prompt**\n",
      "\n",
      "**Character:**  A cross-section of a bone is shown, with the bone marrow inside depicted as a bustling castle.\n",
      "**Background:** The story explains that bone marrow is like a castle inside our bones, where special knights live.\n",
      "**Scene:** Inside the castle, we see different types of blood cell knights: red knights carrying oxygen, white knights fighting germs with swords and shields, and small platelet knights patching up wounds.\n",
      "\n",
      "**| Page 3 Prompt**\n",
      "\n",
      "**Character:** A red blood cell knight, looking a bit tired and sluggish, pulling a cart filled with oxygen bubbles.\n",
      "**Background:**  The story explains that sometimes the blood cell knights can get tired or have problems with their weapons, making us feel unwell.\n",
      "**Scene:** The red knight struggles to pull the cart up a hill. The background shows other tired-looking red knights and a few germs starting to gather.\n",
      "\n",
      "**| Page 4 Prompt**\n",
      "\n",
      "**Character:**  A white blood cell knight with a broken sword, facing a large, spiky germ. \n",
      "**Background:**  The story mentions symptoms like bone pain, bruises, fatigue, and fever, comparing them to the knights' struggles.\n",
      "**Scene:** The white knight tries to defend against the germ but is clearly losing the fight. Other white knights nearby are also struggling against similar germs.\n",
      "\n",
      "**| Page 5 Prompt**\n",
      "\n",
      "**Character:** Sara lies comfortably on a bed, with a doctor gently placing a bandaid on her lower back. \n",
      "**Background:**  The story explains that doctors need to look inside the bone marrow to see what's wrong with the blood cell knights.\n",
      "**Scene:** The doctor smiles reassuringly at Sara. A nurse stands nearby with a tray containing a syringe and a small vial. A colorful mobile hangs above the bed, with teddy bears and knights among the dangling figures.\n",
      "\n",
      "**| Page 6 Prompt**\n",
      "\n",
      "**Character:** Inside the bone marrow castle, blood cell knights are receiving various treatments. \n",
      "**Background:** The story describes how doctors can help the blood cell knights become strong and healthy again.\n",
      "**Scene:** Red knights drink a special potion to gain energy. White knights receive new swords and shields. Platelet knights are getting patched up. \n",
      "\n",
      "**| Page 7 Prompt**\n",
      "\n",
      "**Character:** Sara, full of energy, plays with her friends in a park. \n",
      "**Background:**  The story concludes by assuring the reader that any discomfort from the procedure is temporary.\n",
      "**Scene:** Sara runs and laughs with her friends, while her teddy bear sits on a nearby bench. The sun shines brightly, and everyone is happy. \n",
      "\n"
     ]
    }
   ],
   "source": [
    "print(scenes)"
   ]
  },
  {
   "cell_type": "code",
   "execution_count": 41,
   "id": "5583def5-f70d-492f-bac0-383e4ef636c0",
   "metadata": {
    "tags": []
   },
   "outputs": [],
   "source": [
    "import re\n",
    "def get_all_text_between_dollars(text):\n",
    "  pattern = r\"\\$(.*?)\\$\"  # Match any character (except newline) zero or more times between '$' signs\n",
    "  matches = re.findall(pattern, text)\n",
    "  return matches\n"
   ]
  },
  {
   "cell_type": "code",
   "execution_count": 42,
   "id": "6d1bf0a4-b3f8-4658-8f59-f06c80beb96e",
   "metadata": {
    "tags": []
   },
   "outputs": [
    {
     "data": {
      "text/plain": [
       "[' बू दा, क्या तुमने कभी पॉप पेट्रोल देखा है? वे  कितने बहादुर होते हैं ना, हमेशा लोगों की मदद के लिए तैयार! आज, मैं तुम्हें एक कहानी सुनाऊ ँगी जिसमें तुम खुद एक बहादुर पॉप पेट्रोल हो! ',\n",
       " ' तुम्हें पता है, हमारे शरीर में बहुत सारी  छोटी-छोटी कोशिकाएँ होती हैं, जैसे तुम्हारे खिलौनों का एक बड़ा समूह। ये कोशिकाएँ मिलकर तुम्हारा पूरा शरीर बनाती हैं, तुम्ह ारे बाल, तुम्हारी त्वचा, तुम्हारी हड्डियाँ, सब कुछ!  ये कोशिकाएँ हमेशा बढ़ती और बदलती रहती हैं, ठीक वैसे ही जैसे तुम बड़ ी हो रही हो। ',\n",
       " ' पर कभी-कभी, कुछ कोशिकाएँ शरारती हो जाती हैं और बहुत तेजी से बढ़ने लगती हैं, जैसे कि वे एक खेल खेल रही हों। ये शरारती कोशिकाएँ हमारे शरीर को परेशान करती हैं, और इन्हें  हम “कैंसर कोशिकाएँ” कहते हैं। ',\n",
       " ' अब, बूदा, तुम्हारे शरीर में भी कुछ ऐसी शरारती कोशिकाएँ आ गई हैं। लेकिन घबराओ मत, तुम एक बहादुर पॉप पेट्रोल हो, और हम  इन शरारती कोशिकाओं से लड़ने के लिए तैयार हैं!  ',\n",
       " ' हमारे पास एक खास दवा है, जिसे हम \"कीमोथेरेपी\" कहते हैं। ये दवा उन तेजी से बढ़ने वाली कोशिकाओं को रोकती है। यह  ऐसा है जैसे हम इन कोशिकाओं को कहते हैं, \"अरे, धीरे चलो! इतनी जल्दी मत करो!\" इस दवा से कैंसर कोशिकाएँ धीरे हो जाती हैं और फिर गायब हो जाती हैं। ',\n",
       " ' इस दवा को तुम् हारे शरीर में पहुँचाने के लिए, हम एक छोटी सी नली का इस्तेमाल करेंगे, जिसे हम \"लेहमैन कैथेटर\" कहते हैं। यह नली एक जादुई सुरंग की तरह है जो दवा को सीधे उन शरारती कोशिकाओं  तक पहुँचाती है। ']"
      ]
     },
     "execution_count": 42,
     "metadata": {},
     "output_type": "execute_result"
    }
   ],
   "source": [
    "get_all_text_between_dollars(scenes)"
   ]
  },
  {
   "cell_type": "code",
   "execution_count": 30,
   "id": "d30b07d8-bb5e-4a72-bd4d-49ad34e13698",
   "metadata": {
    "tags": []
   },
   "outputs": [
    {
     "data": {
      "text/plain": [
       "['Sara, weet je nog dat je die mooie roze teddybeer kreeg? Zo zacht en knuffelig! Net zoals die beer, heeft jouw lichaam ook iets heel zachts en belangrijks vanbinnen: beenmerg. Beenmerg is als een kasteel diep in je botten, waar dappere ridders wonen. Maar dit zijn geen gewone ridders, het zijn bloedcelridders!',\n",
       " 'Er zijn verschillende soorten bloedcelridders, elk met een speciale taak. Sommige, zoals de rode ridders, brengen zuurstof rond in je lichaam, net zoals paarden karren met hooi trekken. Andere, de witte ridders, vechten tegen ziektekiemen en bacteriën, alsof ze met zwaarden en schilden tegen draken vechten. En dan zijn er nog de kleine, snelle ridders, de bloedplaatjes, die zorgen dat je niet te veel bloedt als je je pijn doet, net zoals kleine pleisters die wondjes dichtplakken.',\n",
       " 'Soms gebeurt het dat de ridders in het kasteel niet helemaal goed werken. Misschien zijn ze een beetje moe, of is er iets mis met hun wapens en schilden. Dat kan ervoor zorgen dat je je niet zo lekker voelt. Je hebt dan misschien pijn in je botten, alsof er kleine steentjes in je schoenen zitten. Of je krijgt blauwe plekken, alsof je een klein gevecht met een draak hebt gehad. Soms wil je misschien niet lopen, omdat je ridders te moe zijn om je benen te laten bewegen. En soms krijg je koorts, alsof je lichaam een beetje oververhit raakt van al het vechten tegen de ziektekiemen.',\n",
       " 'Om te weten wat er met de ridders in jouw kasteel aan de hand is, willen de dokters een kijkje nemen in het beenmerg. Weet je nog hoe je met je vriendjes ballonnetjes opblies en liet vliegen? Zo gaat het een beetje. De dokters gebruiken een speciale, dunne naald om een klein beetje van het beenmerg op te zuigen, net zoals je lucht in een ballon blaast. Omdat het misschien een beetje pijn doet, krijg je eerst een speciale slaapdrankje, zodat je even lekker droomt over roze teddyberen en dappere ridders.',\n",
       " 'Als de dokters weten wat er mis is met de bloedcelridders, kunnen ze je helpen om ze weer sterk en gezond te maken. Misschien krijgen ze een speciaal drankje om ze energie te geven, of nieuwe wapens en schilden om beter te vechten tegen de ziektekiemen. Na het kleine prikje in je rug, kan het zijn dat het een beetje jeukt, alsof er een klein mugje op je rug heeft gezeten. Maar dat gaat snel weer over, en dan kan je weer spelen met je ballonnetjes en paardje rijden, met de dapperste bloedcelridders aan je zijde!']"
      ]
     },
     "execution_count": 30,
     "metadata": {},
     "output_type": "execute_result"
    }
   ],
   "source": [
    "get_all_text_between_dollars(scenes)"
   ]
  },
  {
   "cell_type": "code",
   "execution_count": null,
   "id": "d59e75c1-babb-48fa-a6c4-edbff7461299",
   "metadata": {},
   "outputs": [],
   "source": []
  }
 ],
 "metadata": {
  "environment": {
   "kernel": "conda-root-py",
   "name": "workbench-notebooks.m120",
   "type": "gcloud",
   "uri": "us-docker.pkg.dev/deeplearning-platform-release/gcr.io/workbench-notebooks:m120"
  },
  "kernelspec": {
   "display_name": "Python 3 (ipykernel) (Local)",
   "language": "python",
   "name": "conda-root-py"
  },
  "language_info": {
   "codemirror_mode": {
    "name": "ipython",
    "version": 3
   },
   "file_extension": ".py",
   "mimetype": "text/x-python",
   "name": "python",
   "nbconvert_exporter": "python",
   "pygments_lexer": "ipython3",
   "version": "3.10.14"
  }
 },
 "nbformat": 4,
 "nbformat_minor": 5
}
